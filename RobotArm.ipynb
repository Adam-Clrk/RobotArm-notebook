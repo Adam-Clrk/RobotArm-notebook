{
  "nbformat": 4,
  "nbformat_minor": 0,
  "metadata": {
    "kernelspec": {
      "name": "python3",
      "display_name": "Python 3"
    }
  },
  "cells": [
    {
      "cell_type": "markdown",
      "metadata": {},
      "source": [
        ">[Project aims](#Project-aims)\n",
        "\n",
        ">[Project aims](#project-aims)\n",
        "\n",
        ">[Physical repairs](#scrollTo=DrzTjSct7gwI)\n",
        "\n",
        ">[Electronics](#scrollTo=9_P7qOVd8PtY)\n",
        "\n",
        ">[Angle limits](#scrollTo=fhELyI_DDX8T)\n",
        "\n",
        ">>[Diagrams](#scrollTo=fhELyI_DDX8T)\n",
        "\n",
        ">[Basic angles](#scrollTo=LwVAr5ma4aKC)\n",
        "\n",
        ">>[a: base (yaw)](#scrollTo=LwVAr5ma4aKC)\n",
        "\n",
        ">>[b: shoulder (pitch)](#scrollTo=LwVAr5ma4aKC)\n",
        "\n",
        ">>[c: elbow (pitch)](#scrollTo=LwVAr5ma4aKC)\n",
        "\n",
        ">>[d: wrist (pitch)](#scrollTo=LwVAr5ma4aKC)\n",
        "\n",
        ">>[e: gripper jaws](#scrollTo=LwVAr5ma4aKC)\n",
        "\n"
      ]
    },
    {
      "cell_type": "markdown",
      "metadata": {},
      "source": [
        "TODO:\n",
        "fix diagram to show external angles not internal ones"
      ]
    },
    {
      "cell_type": "markdown",
      "metadata": {},
      "source": [
        "# Project aims\n",
        "* Repair parts as needed so all parts work\n",
        "* Find a better way to power the robot\n",
        "* Communicate with the controller board over USB from python (motors on/off/reverse etc)\n",
        "* Create a program to:\n",
        "    * Work out the location of the end of the arm from the angles of the joints\n",
        "    * find a solution of angles to get the end of the arm to a given position in 3D space\n",
        "    * (approximately) move a motor by a specified angle, from the motor having a known rotational speed\n",
        "    * not allow invalid movements (eg below ground plane)\n",
        "* Find a better way to track the motors' current rotation position\n"
      ]
    },
    {
      "cell_type": "markdown",
      "metadata": {},
      "source": [
        "# Physical repairs\n",
        "* Motor B's connection to the base had been pulled apart, and the motor/gearbox part required reassembly\n",
        "* Motor B's wires had come off, so I resoldered them back on\n",
        "* Multiple motors had not moved for a long time, and were not able to move. I fixed this by taking apart the gear box for each motor and allowing the motor to spin freely for a few seconds\n",
        "* The batteries were flat (but I had no D Cells availiable), so I used 2 AA batteries instead"
      ]
    },
    {
      "cell_type": "markdown",
      "metadata": {},
      "source": [
        "# Electronics\n"
      ]
    },
    {
      "cell_type": "markdown",
      "metadata": {},
      "source": [
        "*Had to work out how to power the robot, if possible without needing to buy D cells\n",
        "* had to work out circuitry -- The board seemed to use two different voltages from the battery compartment\n",
        "* Reverse engineering circuit\n",
        "* Looking up ICs\n",
        "  * USB Controller\n",
        "  * Motor Controllers (2 types)"
      ]
    },
    {
      "cell_type": "markdown",
      "metadata": {},
      "source": [
        "# Diagrams\n"
      ]
    },
    {
      "cell_type": "markdown",
      "metadata": {},
      "source": [
        "![Robot arm](Photos/IMG_20200331_180758%20-%20IMG_20200331_180804_1.jpg)\n",
        "![Robot arm diagram](Photos/IMG_20200331_180758%20-%20IMG_20200331_180804_2_small.jpg)"
      ]
    },
    {
      "cell_type": "markdown",
      "metadata": {},
      "source": [
        "|Point|Name|Axis|\n",
        "|--|--|--|\n",
        "|a|Base|yaw|\n",
        "|b|Shoulder|pitch|\n",
        "|c|Elbow|pitch|\n",
        "|d|Wrist|pitch|\n",
        "|e|Gripper jaws||\n",
        "\n",
        "|Line|Length (mm)|\n",
        "|----|------|\n",
        "|$ab$|65    |\n",
        "|$bc$|90    |\n",
        "|$cd$|62    |\n",
        "|$de$|90-115|\n",
        "\n",
        "(point e is at the end of the jaws)"
      ]
    },
    {
      "cell_type": "markdown",
      "metadata": {},
      "source": []
    },
    {
      "cell_type": "markdown",
      "metadata": {},
      "source": [
        "# Kinematics"
      ]
    },
    {
      "cell_type": "markdown",
      "metadata": {},
      "source": [
        "<img src=\"https://upload.wikimedia.org/wikipedia/commons/f/f4/FWDvsINV_Kinematics_HighResTransp.png\" alt=\"FWDvsINV Kinematics HighResTransp.png\" style=\"max-height: 16em;margin: 0;\">\n",
        "<!--<img src=\"https://upload.wikimedia.org/wikipedia/commons/f/f4/FWDvsINV_Kinematics_HighResTransp.png\" alt=\"FWDvsINV Kinematics HighResTransp.png\">-->\n",
        "Image By <a href=\"//commons.wikimedia.org/w/index.php?title=User:Haendy-freak&amp;action=edit&amp;redlink=1\" class=\"new\" title=\"User:Haendy-freak (page does not exist)\">Haendy-freak</a> - <span class=\"int-own-work\" lang=\"en\">Own work</span>, <a href=\"https://creativecommons.org/licenses/by-sa/4.0\" title=\"Creative Commons Attribution-Share Alike 4.0\">CC BY-SA 4.0</a>, <a href=\"https://commons.wikimedia.org/w/index.php?curid=86278722\">Link</a>"
      ]
    },
    {
      "cell_type": "markdown",
      "metadata": {},
      "source": [
        "## Forward kinematics"
      ]
    },
    {
      "cell_type": "markdown",
      "metadata": {},
      "source": [
        "Forward kinematics involves calculating the position of the robot's jaws from current angles of the joints, and the lengths of the segments. We can do this using trigonometry:"
      ]
    },
    {
      "cell_type": "code",
      "execution_count": 3,
      "metadata": {},
      "outputs": [
        {
          "output_type": "stream",
          "name": "stdout",
          "text": "(0.11500000000000002,0.217)\n(0.11500000000000002,0.217)\n"
        }
      ],
      "source": [
        "from math import sin, cos, degrees, radians\n",
        "class Coord2D:\n",
        "  def __init__(self, x,y):\n",
        "    self.x = x\n",
        "    self.y = y\n",
        "  @classmethod\n",
        "  def from_polar(cls,r,theta):\n",
        "    return cls(r*cos(theta),r*sin(theta))\n",
        "  @classmethod\n",
        "  def from_polar_degrees(cls,r,theta):\n",
        "    return cls(r*cos(radians(theta)),r*sin(radians(theta)))\n",
        "  def __add__(self, other):\n",
        "    return self.__class__(self.x+other.x,self.y+other.y)\n",
        "  def __repr__(self):\n",
        "    return f'({self.x},{self.y})'\n",
        "\n",
        "line_lengths = {\n",
        "  'ab': 6.5e-2,\n",
        "  'bc': 9.0e-2,\n",
        "  'cd': 6.2e-2,\n",
        "  'de': 1.15e-1\n",
        "}\n",
        "L = line_lengths\n",
        "a = Coord2D(0,0)\n",
        "b = a + Coord2D(0,line_lengths['ab'])\n",
        "c = b + Coord2D.from_polar_degrees(line_lengths['bc'],90)\n",
        "d = c + Coord2D.from_polar_degrees(line_lengths['cd'],90)\n",
        "e = d + Coord2D.from_polar_degrees(line_lengths['de'],0)\n",
        "print(e)\n",
        "\n",
        "e = Coord2D(0,0) + Coord2D(0,L['ab']) + Coord2D.from_polar_degrees(L['bc'],90) + Coord2D.from_polar_degrees(L['cd'],90) + Coord2D.from_polar_degrees(L['de'],0)\n",
        "print(e)"
      ]
    },
    {
      "cell_type": "markdown",
      "metadata": {},
      "source": [
        "## Inverse kinematics\n",
        "Inverse kinematics involves calculating the angles of the different joints for the end of the arm to be at a given position.\n",
        "\n",
        "This process is much more complicated than forward kinematics in complex robots, however the robot arm i am using is relatively simple; there are 3 pitch axes, and one yaw axis (a). This means that for a point in space that the robot can reach, there is only one value for the yaw axis. This leaves us with a 2D problem of the angles for the pitch axes (angles at b, c and d)\n",
        "\n",
        "The vector for the final point is this:"
      ]
    },
    {
      "cell_type": "markdown",
      "metadata": {},
      "source": [
        "![Robot arm diagram](Photos/IMG_20200331_180758%20-%20IMG_20200331_180804_2_smaller.jpg)"
      ]
    },
    {
      "cell_type": "markdown",
      "metadata": {},
      "source": [
        "$\\begin{pmatrix}0\\\\0\\end{pmatrix}+\n",
        "\\begin{pmatrix}0\\\\6.5{\\times}10^{-2}\\end{pmatrix}+\n",
        "\\begin{pmatrix}9.0{\\times}10^{-2} \\times cos(b)\\\\9.0{\\times}10^{-2} \\times sin(b)\\end{pmatrix}+\n",
        "\\begin{pmatrix}6.2{\\times}10^{-2} \\times cos(c)\\\\6.2{\\times}10^{-2} \\times sin(c)\\end{pmatrix}+\n",
        "\\begin{pmatrix}1.15{\\times}10^{-1} \\times cos(d)\\\\1.15{\\times}10^{-1} \\times sin(d)\\end{pmatrix}$"
      ]
    },
    {
      "cell_type": "markdown",
      "metadata": {},
      "source": [
        "$\\begin{pmatrix}\n",
        "x\\\\y\n",
        "\\end{pmatrix}=\n",
        "\\begin{pmatrix}\n",
        "0+(9.0{\\times}10^{-2} \\times cos(b))+(6.2{\\times}10^{-2} \\times cos(c))+(1.15{\\times}10^{-1} \\times cos(d)\\\\\n",
        "(6.5{\\times}10^{-2})+(9.0{\\times}10^{-2} \\times sin(b))+(6.2{\\times}10^{-2} \\times sin(c))+(1.15{\\times}10^{-1} \\times sin(d)\\end{pmatrix}$\n"
      ]
    },
    {
      "cell_type": "markdown",
      "metadata": {},
      "source": [
        "$\n",
        "\\begin{align*}\n",
        "0^\\circ < \\angle b &< 90^\\circ \\\\\n",
        "-135^\\circ < \\angle c &< 135^\\circ \\\\\n",
        "-45^\\circ < \\angle d &< 45^\\circ \\\\\n",
        "\\end{align*}\n",
        "$"
      ]
    },
    {
      "cell_type": "markdown",
      "metadata": {},
      "source": [
        "$\\begin{align}\n",
        "x &= 0+(9.0{\\times}10^{-2} \\times cos(b))+(6.2{\\times}10^{-2} \\times cos(c))+(1.15{\\times}10^{-1} \\times cos(d)\\\\\n",
        "y &= (6.5{\\times}10^{-2})+(9.0{\\times}10^{-2} \\times sin(b))+(6.2{\\times}10^{-2} \\times sin(c))+(1.15{\\times}10^{-1} \\times sin(d)\n",
        "\\end{align}$\n"
      ]
    },
    {
      "cell_type": "markdown",
      "metadata": {},
      "source": [
        "$\n",
        "\\begin{align*}\n",
        "-90^\\circ < \\angle a &< 90^\\circ \\\\\n",
        "90^\\circ < \\angle b &< 180^\\circ \\\\\n",
        "45^\\circ < \\angle c &< 315^\\circ \\\\\n",
        "135^\\circ < \\angle d &< 225^\\circ \\\\\n",
        "0^\\circ < \\angle e &< 90^\\circ\n",
        "\\end{align*}\n",
        "$"
      ]
    },
    {
      "cell_type": "markdown",
      "metadata": {},
      "source": [
        "## Angle constraints\n",
        "$\n",
        "\\begin{align*}\n",
        "-90^\\circ < \\angle a &< 90^\\circ \\\\\n",
        "90^\\circ < \\angle b &< 180^\\circ \\\\\n",
        "45^\\circ < \\angle c &< 315^\\circ \\\\\n",
        "135^\\circ < \\angle d &< 225^\\circ \\\\\n",
        "0^\\circ < \\angle e &< 90^\\circ\n",
        "\\end{align*}\n",
        "$\n",
        "\n",
        "In general, large angles should be avoided, because this can cause collisions between parts of the arm"
      ]
    },
    {
      "cell_type": "markdown",
      "metadata": {},
      "source": [
        "# Collision detection\n",
        "To work out limits we create a \"unsafe volume\" around each line.\n",
        "TODO: do this because some positions cannot be reached eg. on top of base (runtime sanity check?)"
      ]
    },
    {
      "cell_type": "markdown",
      "metadata": {},
      "source": [
        "# Links/further reading\n",
        "## Python\n",
        "* https://google.github.io/styleguide/pyguide.html\n",
        "## Robotic arm\n",
        "* https://appliedgo.net/roboticarm/\n",
        "* http://mattdyson.org/projects/robotarm/\n",
        "* https://notbrainsurgery.livejournal.com/38622.html\n",
        "## Kinematics\n",
        "* https://en.wikipedia.org/wiki/Forward_kinematics\n",
        "* https://en.wikipedia.org/wiki/Inverse_kinematics\n",
        "* https://en.wikipedia.org/wiki/Kinematic_chain\n",
        "* https://en.wikipedia.org/wiki/Degrees_of_freedom_(mechanics)\n",
        "* https://en.wikipedia.org/wiki/321_kinematic_structure\n",
        "    * https://apps.dtic.mil/dtic/tr/fulltext/u2/680036.pdf\n",
        "* https://en.wikipedia.org/wiki/Arm_solution\n",
        "* https://en.wikipedia.org/wiki/Cylindrical_coordinate_system\n",
        "## Other\n",
        "* https://en.wikipedia.org/wiki/Pulse-width_modulation"
      ]
    },
    {
      "cell_type": "code",
      "execution_count": 9,
      "metadata": {},
      "outputs": [
        {
          "output_type": "stream",
          "name": "stdout",
          "text": "<class 'numpy.float64'>\n<class 'float'>\n"
        },
        {
          "output_type": "execute_result",
          "data": {
            "text/plain": "numpy.ndarray"
          },
          "metadata": {},
          "execution_count": 9
        }
      ],
      "source": [
        "import numpy\n",
        "import math\n",
        "vec = (1,1,1)\n",
        "print(type(numpy.linalg.norm(vec)))\n",
        "print(type(math.sqrt((vec[0]**2)+(vec[1]**2)+(vec[2]**2))))\n",
        "\n",
        "type(vec/numpy.linalg.norm(vec))"
      ]
    }
  ]
}