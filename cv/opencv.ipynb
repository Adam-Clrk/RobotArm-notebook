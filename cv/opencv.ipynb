{
 "cells": [
  {
   "cell_type": "markdown",
   "metadata": {},
   "source": [
    "# Setup cell"
   ]
  },
  {
   "cell_type": "code",
   "execution_count": 1,
   "metadata": {},
   "outputs": [
    {
     "name": "stdout",
     "output_type": "stream",
     "text": [
      "3.2.0\n"
     ]
    }
   ],
   "source": [
    "import cv2 as cv\n",
    "from cv2 import aruco\n",
    "import numpy as np\n",
    "\n",
    "from util import imagesToHtmlPage, get_calibration\n",
    "\n",
    "def reset():\n",
    "    cv.destroyAllWindows()\n",
    "    try:\n",
    "        cap.release()\n",
    "    except:\n",
    "        pass\n",
    "\n",
    "reset()\n",
    "print(cv.__version__)"
   ]
  },
  {
   "cell_type": "markdown",
   "metadata": {},
   "source": [
    "# Potential approaches"
   ]
  },
  {
   "cell_type": "markdown",
   "metadata": {},
   "source": [
    "## Markers in space, camera on robot\n",
    "- diamond markers so orientation can be calculated too\n",
    "- calculate angles by only moving one motor at a time\n",
    "- limit kill-switches still needed\n",
    "- camera could be mounted to end of robot (\"hand\") or middle (\"forearm\") of robot"
   ]
  },
  {
   "cell_type": "markdown",
   "metadata": {},
   "source": [
    "## Markers on robot, camera fixed\n",
    "- facing robot side-on\n",
    " - potentially limits potential yaw as markers must all remain visible\n",
    "\n",
    "- Overhead view\n",
    " - aids with drawing tasks"
   ]
  },
  {
   "cell_type": "markdown",
   "metadata": {},
   "source": [
    "## Markers on robot, camera on robot\n",
    "- camera looking down/up arm\n",
    "- calculate positions of markers\n",
    "- could limit pitches of motors, depending on camera angle "
   ]
  },
  {
   "cell_type": "markdown",
   "metadata": {},
   "source": [
    "# Camera calibration"
   ]
  },
  {
   "cell_type": "markdown",
   "metadata": {},
   "source": [
    "Only needed one time per camera\n",
    "\n",
    "use `./aruco/create_board_charuco` to generate a board and `./aruco/calibrate_camera_charuco` to calibrate the camera (outputs a yaml file)\n",
    "\n",
    "load the yaml file using `get_calibration(filename)`"
   ]
  },
  {
   "cell_type": "markdown",
   "metadata": {},
   "source": [
    "# obselete"
   ]
  },
  {
   "cell_type": "code",
   "execution_count": 22,
   "metadata": {},
   "outputs": [
    {
     "data": {
      "application/vnd.jupyter.widget-view+json": {
       "model_id": "9a9e6eda8aa3482a9d57ddfd833bd3cf",
       "version_major": 2,
       "version_minor": 0
      },
      "text/plain": [
       "IntSlider(value=2, max=10, min=1)"
      ]
     },
     "metadata": {},
     "output_type": "display_data"
    },
    {
     "data": {
      "application/vnd.jupyter.widget-view+json": {
       "model_id": "1bd57e463a76474b9b48e75a2b6c07ca",
       "version_major": 2,
       "version_minor": 0
      },
      "text/plain": [
       "IntSlider(value=3, max=10, min=1)"
      ]
     },
     "metadata": {},
     "output_type": "display_data"
    },
    {
     "data": {
      "application/vnd.jupyter.widget-view+json": {
       "model_id": "0abcc0bcf1b941c7b641109e4bb1e668",
       "version_major": 2,
       "version_minor": 0
      },
      "text/plain": [
       "FloatSlider(value=0.04, max=0.1, step=0.005)"
      ]
     },
     "metadata": {},
     "output_type": "display_data"
    }
   ],
   "source": [
    "_blockSize=widgets.IntSlider(min=1, max=10, value=2)\n",
    "_ksize=widgets.IntSlider(min=1, max=10, value=3)\n",
    "_k=widgets.FloatSlider(min=0.0, max=0.1, value=0.04, step=0.005)\n",
    "display(_blockSize, _ksize, _k)"
   ]
  },
  {
   "cell_type": "markdown",
   "metadata": {},
   "source": [
    "(edit sliders then run next cell)"
   ]
  },
  {
   "cell_type": "code",
   "execution_count": 24,
   "metadata": {},
   "outputs": [],
   "source": [
    "blockSize, ksize, k = (_blockSize.value, _ksize.value, _k.value)\n",
    "cap = cv.VideoCapture(0)\n",
    "if not cap.isOpened():\n",
    "    print(\"Cannot open camera\")\n",
    "    exit()\n",
    "while True:\n",
    "    # Capture frame-by-frame\n",
    "    ret, frame = cap.read()\n",
    "    # if frame is read correctly ret is True\n",
    "    if not ret:\n",
    "        print(\"Can't receive frame (stream end?). Exiting ...\")\n",
    "        break\n",
    "    # Our operations on the frame come here\n",
    "    gray = cv.cvtColor(frame, cv.COLOR_BGR2GRAY)\n",
    "    # Display the resulting frame\n",
    "    gray = np.float32(gray)\n",
    "\n",
    "    dst = cv.cornerHarris(gray, blockSize, ksize, k)\n",
    "    #result is dilated for marking the corners, not important\n",
    "    dst = cv.dilate(dst,None)\n",
    "    # Threshold for an optimal value, it may vary depending on the image.\n",
    "    frame[dst>0.5*dst.max()]=[0,0,255]\n",
    "#     ret, dst = cv.threshold(dst,0.01*dst.max(),255,0)\n",
    "    cv.imshow('frame', dst)\n",
    "    if cv.waitKey(1) == ord('q'):\n",
    "        break\n",
    "cv.destroyAllWindows()\n",
    "cap.release()"
   ]
  },
  {
   "cell_type": "markdown",
   "metadata": {},
   "source": [
    "# Aruco detection\n",
    "Tutorial: https://docs.opencv.org/3.1.0/d5/dae/tutorial_aruco_detection.html\n",
    "\n",
    "Docs: https://docs.opencv.org/3.1.0/d4/d17/namespacecv_1_1aruco.html"
   ]
  },
  {
   "cell_type": "markdown",
   "metadata": {},
   "source": [
    "## Single marker generation"
   ]
  },
  {
   "cell_type": "code",
   "execution_count": 7,
   "metadata": {},
   "outputs": [],
   "source": [
    "n = 12\n",
    "\n",
    "for i in range(n):\n",
    "    marker = aruco.drawMarker(aruco.Dictionary_get(aruco.DICT_4X4_100),i,6)\n",
    "    cv.imwrite(f'./out/marker_{i}.jpg',marker)\n",
    "imagesToHtmlPage('./out/all.html', [f'marker_{i}.jpg' for i in range(n)], image_width=\"2.4cm\", image_margins=\"2cm\")"
   ]
  },
  {
   "cell_type": "code",
   "execution_count": 97,
   "metadata": {},
   "outputs": [
    {
     "data": {
      "text/html": [
       "<style>.jp-RenderedImage.jp-OutputArea-output img {image-rendering: crisp-edges;}</style>"
      ],
      "text/plain": [
       "<IPython.core.display.HTML object>"
      ]
     },
     "metadata": {},
     "output_type": "display_data"
    },
    {
     "data": {
      "image/jpeg": "[encoded data removed]",
      "text/plain": [
       "<IPython.core.display.Image object>"
      ]
     },
     "metadata": {
      "image/jpeg": {
       "css": "image-rendering: crisp-edges;",
       "height": 100,
       "width": 100
      }
     },
     "output_type": "display_data"
    }
   ],
   "source": [
    "from IPython.display import Image, HTML\n",
    "display(HTML('<style>.jp-RenderedImage.jp-OutputArea-output img {image-rendering: crisp-edges;}</style>'))\n",
    "display(Image(filename='./markers/marker_0.jpg', height=100, width=100))"
   ]
  },
  {
   "cell_type": "markdown",
   "metadata": {},
   "source": [
    "# ChArUco diamond markers\n",
    "\n",
    "(more accurate pose detection than single markers)\n",
    "\n",
    "generation code not yet ported (conversion from/to Vec4i is not wrapped in core)?\n",
    "\n",
    "https://github.com/opencv/opencv_contrib/tree/master/modules/aruco/samples\n",
    "\n",
    "https://github.com/opencv/opencv_contrib/blob/e8916dae98e13c080166156ec511c0c2d9197f60/modules/aruco/include/opencv2/aruco/charuco.hpp"
   ]
  },
  {
   "cell_type": "code",
   "execution_count": 27,
   "metadata": {},
   "outputs": [
    {
     "name": "stdout",
     "output_type": "stream",
     "text": [
      "mkdir: cannot create directory ‘./diamond/out’: File exists\n",
      "\u001b[0m\u001b[01;35m0_0_0_0.jpg\u001b[0m  \u001b[01;35m0_0_0_1.jpg\u001b[0m  \u001b[01;35m0_0_0_2.jpg\u001b[0m  \u001b[01;35m0_0_0_3.jpg\u001b[0m  \u001b[01;35m0_1_2_4.jpg\u001b[0m  \u001b[01;35m1_1_3_4.jpg\u001b[0m\n"
     ]
    }
   ],
   "source": [
    "# %mkdir ./diamond/out\n",
    "import subprocess\n",
    "# data = [\n",
    "#     [0,0,0,1],\n",
    "#     [0,0,0,2]\n",
    "# ]\n",
    "data = [[0,0,0,a] for a in range(4)]\n",
    "for ids in data:\n",
    "    id_strings = [str(a) for a in ids]\n",
    "    subprocess.run([\"./diamond/GenerateDiamond\"] + id_strings + [f'./diamond/out/{\"_\".join(id_strings)}.jpg'])"
   ]
  },
  {
   "cell_type": "code",
   "execution_count": 30,
   "metadata": {},
   "outputs": [
    {
     "name": "stdout",
     "output_type": "stream",
     "text": [
      "['./0_0_0_0.jpg', './0_0_0_1.jpg', './0_0_0_2.jpg', './0_0_0_3.jpg']\n"
     ]
    }
   ],
   "source": [
    "filenames = [f'./{\"_\".join([str(a) for a in ids])}.jpg' for ids in data]\n",
    "print(filenames)\n",
    "imagesToHtmlPage('./diamond/out/out.html',filenames, image_width='10cm')"
   ]
  },
  {
   "cell_type": "markdown",
   "metadata": {},
   "source": [
    "## Diamond detection"
   ]
  },
  {
   "cell_type": "markdown",
   "metadata": {},
   "source": [
    "### From image"
   ]
  },
  {
   "cell_type": "code",
   "execution_count": 8,
   "metadata": {},
   "outputs": [],
   "source": [
    "reset()\n",
    "img = cv.imread('')\n",
    "\n",
    "corners, ids, rejectedImgPoints = aruco.detectMarkers(img, aruco.Dictionary_get(aruco.DICT_6X6_250))\n",
    "diamondCorners, diamondIds = aruco.detectCharucoDiamond(img, corners, ids, 200/120)\n",
    "aruco.drawDetectedDiamonds(img, diamondCorners, diamondIds)\n",
    "\n",
    "cv.imshow('img', img)\n",
    "cv.waitKey(500)"
   ]
  },
  {
   "cell_type": "markdown",
   "metadata": {},
   "source": [
    "### From webcam"
   ]
  },
  {
   "cell_type": "code",
   "execution_count": 9,
   "metadata": {},
   "outputs": [],
   "source": [
    "reset()\n",
    "DICT_PRESET = aruco.DICT_4X4_50\n",
    "cap = cv.VideoCapture(0)\n",
    "if not cap.isOpened():\n",
    "    print(\"Cannot open camera\")\n",
    "    exit()\n",
    "while True:\n",
    "    # Capture frame-by-frame\n",
    "    ret, frame = cap.read()\n",
    "#     frame = cv.undistort(frame, camera_matrix, distortion_coefficients)\n",
    "    # undistort\n",
    "    camera_matrix, distortion_coefficients, newcameramtx, roi = get_calibration('./aruco/webcam.yaml')\n",
    "    frame = cv.undistort(frame, camera_matrix, distortion_coefficients, None, newcameramtx)\n",
    "    x, y, w, h = roi\n",
    "    frame = frame[y:y+h, x:x+w]\n",
    "    # if frame is read correctly ret is True\n",
    "    if not ret:\n",
    "        print(\"Can't receive frame (stream end?). Exiting ...\")\n",
    "        break\n",
    "    # Our operations on the frame come here\n",
    "    gray = cv.cvtColor(frame, cv.COLOR_BGR2GRAY)\n",
    "#     frame=gray\n",
    "    # Display the resulting frame\n",
    "#     gray = np.float32(gray)\n",
    "\n",
    "    corners, ids, rejectedImgPoints = aruco.detectMarkers(frame, aruco.Dictionary_get(DICT_PRESET))\n",
    "    if ids is not None:\n",
    "        diamondCorners, diamondIds = aruco.detectCharucoDiamond(frame, corners, ids, 200/120)\n",
    "        if diamondIds is not None:\n",
    "            frame = aruco.drawDetectedDiamonds(frame, diamondCorners, diamondIds)\n",
    "            if len(diamondIds)>1:\n",
    "                #print(aruco.estimatePoseSingleMarkers(diamondCorners, 200, 120, camera_matrix))\n",
    "                #rvecs, tvecs = aruco.estimatePoseSingleMarkers(diamondCorners, 0.024, camera_matrix, distortion_coefficients)\n",
    "                rvecs, tvecs = aruco.estimatePoseSingleMarkers(diamondCorners, 0.04, camera_matrix, distortion_coefficients)\n",
    "\n",
    "#                 print(tvecs)\n",
    "                cv.putText(frame,str(round(np.linalg.norm(tvecs[0]-tvecs[1]),5)),(0,30),cv.FONT_HERSHEY_SIMPLEX,1,(255,255,255))\n",
    "#                 print(np.linalg.norm(tvecs[0]-tvecs[1]))\n",
    "    #dst = cv.cornerHarris(gray, blockSize, ksize, k)\n",
    "    #result is dilated for marking the corners, not important\n",
    "    #dst = cv.dilate(dst,None)\n",
    "    # Threshold for an optimal value, it may vary depending on the image.\n",
    "    #frame[dst>0.5*dst.max()]=[0,0,255]\n",
    "    #ret, dst = cv.threshold(dst,0.01*dst.max(),255,0)\n",
    "    cv.imshow('frame', frame)\n",
    "    if cv.waitKey(1) == ord('q'):\n",
    "        break\n",
    "cv.destroyAllWindows()\n",
    "cap.release()"
   ]
  },
  {
   "cell_type": "code",
   "execution_count": 35,
   "metadata": {},
   "outputs": [
    {
     "data": {
      "text/plain": [
       "([array([[[ 231.71800232,  335.96038818]],\n",
       "  \n",
       "         [[ 283.67782593,  336.72061157]],\n",
       "  \n",
       "         [[ 283.32400513,  389.6307373 ]],\n",
       "  \n",
       "         [[ 230.66191101,  388.92572021]]], dtype=float32),\n",
       "  array([[[ 234.50323486,  140.99964905]],\n",
       "  \n",
       "         [[ 286.02099609,  141.01049805]],\n",
       "  \n",
       "         [[ 285.29620361,  192.39378357]],\n",
       "  \n",
       "         [[ 233.72932434,  192.20053101]]], dtype=float32)],\n",
       " array([[[0, 0, 0, 2]],\n",
       " \n",
       "        [[0, 0, 0, 1]]], dtype=int32))"
      ]
     },
     "execution_count": 35,
     "metadata": {},
     "output_type": "execute_result"
    }
   ],
   "source": [
    "diamondCorners, diamondIds"
   ]
  },
  {
   "cell_type": "code",
   "execution_count": 6,
   "metadata": {},
   "outputs": [
    {
     "name": "stdout",
     "output_type": "stream",
     "text": [
      "[array([[[ 240.,  440.],\n",
      "        [ 359.,  440.],\n",
      "        [ 359.,  559.],\n",
      "        [ 240.,  559.]]], dtype=float32), array([[[ 440.,  240.],\n",
      "        [ 559.,  240.],\n",
      "        [ 559.,  359.],\n",
      "        [ 440.,  359.]]], dtype=float32), array([[[  40.,  240.],\n",
      "        [ 159.,  240.],\n",
      "        [ 159.,  359.],\n",
      "        [  40.,  359.]]], dtype=float32), array([[[ 240.,   40.],\n",
      "        [ 359.,   40.],\n",
      "        [ 359.,  159.],\n",
      "        [ 240.,  159.]]], dtype=float32)] [[3]\n",
      " [2]\n",
      " [1]\n",
      " [0]]\n"
     ]
    }
   ],
   "source": [
    "print(corners, ids)"
   ]
  },
  {
   "cell_type": "markdown",
   "metadata": {},
   "source": [
    "# Diamond webcam detection bak"
   ]
  },
  {
   "cell_type": "code",
   "execution_count": 10,
   "metadata": {},
   "outputs": [],
   "source": [
    "                diamondCorners, diamondIds = aruco.detectCharucoDiamond(image, corners, ids, 200/120)\n",
    "                if diamondIds is not None:\n",
    "                    image = aruco.drawDetectedDiamonds(image, diamondCorners, diamondIds)\n",
    "                    if len(diamondIds)>1:\n",
    "                        print('====')\n",
    "                        rvecs, tvecs = aruco.estimatePoseSingleMarkers(diamondCorners, 0.04, camera_matrix, distortion_coefficients)\n",
    "\n",
    "                        tvecs_new = tvecs.reshape((-1,3))\n",
    "                        diamondIds_new = diamondIds.reshape((-1,4))\n",
    "\n",
    "                        # diamondIds.reshape((-1,4))\n",
    "                        # print(diamondIds)\n",
    "                        def find_marker_index(diamondId):\n",
    "                            indexes = np.where(np.all(diamondIds_new == diamondId, axis=1))[0]\n",
    "                            return indexes[0] if len(indexes > 0) else None\n",
    "\n",
    "                        index_of_base = find_marker_index((0,0,0,0))\n",
    "                        \n",
    "                        print('b', diamondIds_new[index_of_base], tvecs_new[index_of_base])\n",
    "                        #print(aruco.estimatePoseSingleMarkers(diamondCorners, 200, 120, camera_matrix))\n",
    "                        #rvecs, tvecs = aruco.estimatePoseSingleMarkers(diamondCorners, 0.024, camera_matrix, distortion_coefficients)\n",
    "                        \n",
    "                        print('a', tvecs_new[index_of_base,1])\n",
    "                        # print(tvecs)\n",
    "                        print(np.linalg.norm(tvecs[0]-tvecs[1]))\n",
    "                        print(str(round(np.linalg.norm(tvecs[0]-tvecs[1]),5)))\n",
    "                        print('rvecs', rvecs)\n",
    "                        print('tvecs', tvecs_new)\n",
    "                        print('====')\n",
    "                        cv.putText(image,str(round(np.linalg.norm(tvecs[0]-tvecs[1]),5)),(0,30),cv.FONT_HERSHEY_SIMPLEX,1,(255,255,255))\n",
    "                        # print(np.linalg.norm(tvecs[0]-tvecs[1]))"
   ]
  }
 ],
 "metadata": {
  "kernelspec": {
   "display_name": "Python 3",
   "language": "python",
   "name": "python3"
  },
  "language_info": {
   "codemirror_mode": {
    "name": "ipython",
    "version": 3
   },
   "file_extension": ".py",
   "mimetype": "text/x-python",
   "name": "python",
   "nbconvert_exporter": "python",
   "pygments_lexer": "ipython3",
   "version": "3.6.9"
  },
  "toc-autonumbering": true,
  "toc-showcode": false,
  "toc-showmarkdowntxt": false,
  "toc-showtags": false
 },
 "nbformat": 4,
 "nbformat_minor": 4
}
